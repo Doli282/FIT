{
  "cells": [
    {
      "cell_type": "markdown",
      "metadata": {
        "id": "I8rxds4KT6Kh"
      },
      "source": [
        "# Break AES using Differential Power Analysis with correlations\n",
        "## i.e. CPA = Correlation Power Analysis\n",
        "\n",
        "You need:\n",
        "* `plaintext.txt`: all PT blocks, (one block per line, in hex, bytes separated by spaces)\n",
        "* `ciphertext.txt`: all CT blocks, (one block per line, in hex, bytes separated by spaces)\n",
        "* `traceLength.txt`: how many samples per trace (one decimal number)\n",
        "* `traces.bin`: raw measured traces, one byte per sample (uint8), all traces together continuously\n"
      ]
    },
    {
      "cell_type": "code",
      "source": [
        "# !wget https://users.fit.cvut.cz/bucekj/dpa_student_v2.zip\n",
        "# !unzip -j dpa_student_v2.zip\n",
        "!ls"
      ],
      "metadata": {
        "colab": {
          "base_uri": "https://localhost:8080/"
        },
        "id": "jS1snkfcUIsw",
        "outputId": "62e64a4d-f26f-460b-a2b7-c1356c7117ff"
      },
      "execution_count": 3,
      "outputs": [
        {
          "output_type": "stream",
          "name": "stdout",
          "text": [
            "ciphertext.txt\tdpa_bi-hwb_student5.nb\tdpa_student_v2.zip  sample_data      traces.bin\n",
            "dpa-aes-v.png\tdpa_student.ipynb\tplaintext.txt\t    traceLength.txt\n"
          ]
        }
      ]
    },
    {
      "cell_type": "code",
      "execution_count": 2,
      "metadata": {
        "id": "GEwwR12Gupsi"
      },
      "outputs": [],
      "source": [
        "import matplotlib.pyplot as plt\n",
        "import numpy as np"
      ]
    },
    {
      "cell_type": "markdown",
      "metadata": {
        "id": "i2-p4EDvT6Kl"
      },
      "source": [
        "## Warmup -- Numpy and array programming\n",
        "\"Array programming provides a powerful, compact and expressive syntax for accessing, manipulating and operating on data in vectors, matrices and higher-dimensional arrays.\""
      ]
    },
    {
      "cell_type": "code",
      "execution_count": 5,
      "metadata": {
        "colab": {
          "base_uri": "https://localhost:8080/"
        },
        "id": "sBdyKoUUT6Kl",
        "outputId": "aec4340d-9a9d-40a9-cff8-20ae4b9f17a5"
      },
      "outputs": [
        {
          "output_type": "stream",
          "name": "stdout",
          "text": [
            "[[1 2 3]\n",
            " [4 5 6]] (2, 3)\n",
            "[[1 1 2]\n",
            " [2 2 3]]\n"
          ]
        }
      ],
      "source": [
        "# let us have two 2D arrays, i.e. matrices\n",
        "a = np.array([[1, 2, 3], [4, 5, 6]])\n",
        "b = np.array([[1, 1, 2], [2, 2, 3]])\n",
        "print(a,  a.shape)\n",
        "print(b)"
      ]
    },
    {
      "cell_type": "code",
      "execution_count": 6,
      "metadata": {
        "colab": {
          "base_uri": "https://localhost:8080/"
        },
        "id": "hfgvl42wT6Kl",
        "outputId": "2c3baae6-f8ac-4d3a-820f-c7dd7430ff36"
      },
      "outputs": [
        {
          "output_type": "stream",
          "name": "stdout",
          "text": [
            "[[2 3 5]\n",
            " [6 7 9]]\n",
            "[[2 3 5]\n",
            " [6 7 9]]\n",
            "[[ True  True  True]\n",
            " [ True  True  True]]\n",
            "True\n"
          ]
        }
      ],
      "source": [
        "# Add them together. Their dimensions are the same, so they are added element by element\n",
        "c = a + b\n",
        "print(c)\n",
        "\n",
        "# We could of course add the elements manually. But this is cumbersome and not necessary\n",
        "d = np.zeros((2, 3), dtype='int') # prepare a zero 2 x 3 array of integers for the result\n",
        "for i in range(2):\n",
        "    for j in range(3):\n",
        "        d[i, j] = a[i, j] + b[i, j]\n",
        "print(d)\n",
        "print(c == d)\n",
        "print(np.all(c == d))"
      ]
    },
    {
      "cell_type": "code",
      "execution_count": 8,
      "metadata": {
        "colab": {
          "base_uri": "https://localhost:8080/"
        },
        "id": "-BdwPkGpT6Kl",
        "outputId": "4535acc1-4900-4d59-f064-0c9ca77044af"
      },
      "outputs": [
        {
          "output_type": "stream",
          "name": "stdout",
          "text": [
            "[[1 2 3]\n",
            " [4 5 6]]\n",
            "[[-19 -18 -17]\n",
            " [-16 -15 -14]]\n",
            "[[11 22 33]\n",
            " [14 25 36]]\n",
            "(3,)\n",
            "[[11 22 33]\n",
            " [14 25 36]]\n",
            "(1, 3)\n"
          ]
        }
      ],
      "source": [
        "# Numpy broadcasting\n",
        "print(a)\n",
        "# A scalar is broadcast over the matrix\n",
        "print(a - 20)\n",
        "# We can add a matrix and a 1D (row) vector, as long as both have the same number of columns\n",
        "print(a + np.array([10, 20, 30]))\n",
        "x = np.array([10, 20, 30])\n",
        "print(x.shape)\n",
        "# The same happens if the added vector is 2D but still one row\n",
        "print(a + np.array([[10, 20, 30]]))\n",
        "y = np.array([[10, 20, 30]])\n",
        "print(y.shape)"
      ]
    },
    {
      "cell_type": "code",
      "execution_count": 10,
      "metadata": {
        "colab": {
          "base_uri": "https://localhost:8080/"
        },
        "id": "0FEWelm5T6Kl",
        "outputId": "8fbd9f30-e5c0-40a4-bc3d-0cdb2c6bdd6b"
      },
      "outputs": [
        {
          "output_type": "stream",
          "name": "stdout",
          "text": [
            "[[1 1 2]\n",
            " [2 2 3]]\n",
            "[[11 11 12]\n",
            " [22 22 23]]\n"
          ]
        }
      ],
      "source": [
        "# Numpy broadcasting 2\n",
        "print(b)\n",
        "# Add 10 to the first row and 20 to the second row: Use a column vector\n",
        "z = np.array([[10],[20]])\n",
        "print(b + np.array([[10],[20]]))"
      ]
    },
    {
      "cell_type": "code",
      "source": [
        "print(x)\n",
        "print(z)\n",
        "print(x^z)"
      ],
      "metadata": {
        "colab": {
          "base_uri": "https://localhost:8080/"
        },
        "id": "mVNFaaphW227",
        "outputId": "db3765b5-ad93-4c5a-8cb2-6dc64cccc73c"
      },
      "execution_count": 12,
      "outputs": [
        {
          "output_type": "stream",
          "name": "stdout",
          "text": [
            "[10 20 30]\n",
            "[[10]\n",
            " [20]]\n",
            "[[ 0 30 20]\n",
            " [30  0 10]]\n"
          ]
        }
      ]
    },
    {
      "cell_type": "code",
      "execution_count": 19,
      "metadata": {
        "colab": {
          "base_uri": "https://localhost:8080/"
        },
        "id": "dt_kngYqT6Km",
        "outputId": "c2f7f8bb-e256-4c92-d66d-d8e09ea96194"
      },
      "outputs": [
        {
          "output_type": "stream",
          "name": "stdout",
          "text": [
            "[[1 2 3]\n",
            " [4 5 6]]\n",
            "[2]\n",
            "[[20]\n",
            " [40]]\n"
          ]
        }
      ],
      "source": [
        "# Numpy broadcasting 3\n",
        "print(a)\n",
        "e = a[0, 1:2] # 1D vector from row 0 of matrix a\n",
        "print(e)\n",
        "\n",
        "f = np.array([10, 20])\n",
        "f = np.array([[10], [20]]) # column vector\n",
        "print(e * f)"
      ]
    },
    {
      "cell_type": "code",
      "source": [
        "print(a)\n",
        "print(a.T)\n",
        "g = a[:, 0]\n",
        "print(g[ : , None])\n",
        "print(g[ : , np.newaxis])"
      ],
      "metadata": {
        "colab": {
          "base_uri": "https://localhost:8080/"
        },
        "id": "FET-zi35XqOp",
        "outputId": "e819b6c0-3616-4fff-a31f-10e527ce1ee1"
      },
      "execution_count": 23,
      "outputs": [
        {
          "output_type": "stream",
          "name": "stdout",
          "text": [
            "[[1 2 3]\n",
            " [4 5 6]]\n",
            "[[1 4]\n",
            " [2 5]\n",
            " [3 6]]\n",
            "[[1]\n",
            " [4]]\n",
            "[[1]\n",
            " [4]]\n"
          ]
        }
      ]
    },
    {
      "cell_type": "markdown",
      "metadata": {
        "id": "V63CiFLtT6Km"
      },
      "source": [
        "## Useful functions and tables"
      ]
    },
    {
      "cell_type": "code",
      "execution_count": 24,
      "metadata": {
        "id": "8fW8nPQ5uyEO"
      },
      "outputs": [],
      "source": [
        "# AES SBOX\n",
        "sbox = np.array([\n",
        "    0x63, 0x7C, 0x77, 0x7B, 0xF2, 0x6B, 0x6F, 0xC5, 0x30, 0x01, 0x67, 0x2B, 0xFE, 0xD7, 0xAB, 0x76,\n",
        "    0xCA, 0x82, 0xC9, 0x7D, 0xFA, 0x59, 0x47, 0xF0, 0xAD, 0xD4, 0xA2, 0xAF, 0x9C, 0xA4, 0x72, 0xC0,\n",
        "    0xB7, 0xFD, 0x93, 0x26, 0x36, 0x3F, 0xF7, 0xCC, 0x34, 0xA5, 0xE5, 0xF1, 0x71, 0xD8, 0x31, 0x15,\n",
        "    0x04, 0xC7, 0x23, 0xC3, 0x18, 0x96, 0x05, 0x9A, 0x07, 0x12, 0x80, 0xE2, 0xEB, 0x27, 0xB2, 0x75,\n",
        "    0x09, 0x83, 0x2C, 0x1A, 0x1B, 0x6E, 0x5A, 0xA0, 0x52, 0x3B, 0xD6, 0xB3, 0x29, 0xE3, 0x2F, 0x84,\n",
        "    0x53, 0xD1, 0x00, 0xED, 0x20, 0xFC, 0xB1, 0x5B, 0x6A, 0xCB, 0xBE, 0x39, 0x4A, 0x4C, 0x58, 0xCF,\n",
        "    0xD0, 0xEF, 0xAA, 0xFB, 0x43, 0x4D, 0x33, 0x85, 0x45, 0xF9, 0x02, 0x7F, 0x50, 0x3C, 0x9F, 0xA8,\n",
        "    0x51, 0xA3, 0x40, 0x8F, 0x92, 0x9D, 0x38, 0xF5, 0xBC, 0xB6, 0xDA, 0x21, 0x10, 0xFF, 0xF3, 0xD2,\n",
        "    0xCD, 0x0C, 0x13, 0xEC, 0x5F, 0x97, 0x44, 0x17, 0xC4, 0xA7, 0x7E, 0x3D, 0x64, 0x5D, 0x19, 0x73,\n",
        "    0x60, 0x81, 0x4F, 0xDC, 0x22, 0x2A, 0x90, 0x88, 0x46, 0xEE, 0xB8, 0x14, 0xDE, 0x5E, 0x0B, 0xDB,\n",
        "    0xE0, 0x32, 0x3A, 0x0A, 0x49, 0x06, 0x24, 0x5C, 0xC2, 0xD3, 0xAC, 0x62, 0x91, 0x95, 0xE4, 0x79,\n",
        "    0xE7, 0xC8, 0x37, 0x6D, 0x8D, 0xD5, 0x4E, 0xA9, 0x6C, 0x56, 0xF4, 0xEA, 0x65, 0x7A, 0xAE, 0x08,\n",
        "    0xBA, 0x78, 0x25, 0x2E, 0x1C, 0xA6, 0xB4, 0xC6, 0xE8, 0xDD, 0x74, 0x1F, 0x4B, 0xBD, 0x8B, 0x8A,\n",
        "    0x70, 0x3E, 0xB5, 0x66, 0x48, 0x03, 0xF6, 0x0E, 0x61, 0x35, 0x57, 0xB9, 0x86, 0xC1, 0x1D, 0x9E,\n",
        "    0xE1, 0xF8, 0x98, 0x11, 0x69, 0xD9, 0x8E, 0x94, 0x9B, 0x1E, 0x87, 0xE9, 0xCE, 0x55, 0x28, 0xDF,\n",
        "    0x8C, 0xA1, 0x89, 0x0D, 0xBF, 0xE6, 0x42, 0x68, 0x41, 0x99, 0x2D, 0x0F, 0xB0, 0x54, 0xBB, 0x16\n",
        "    ], dtype='uint8')\n",
        "\n",
        "# Hamming weight lookup table\n",
        "hw_table = []\n",
        "for i in range(256):\n",
        "    s = '{0:08b}'.format(i)\n",
        "    hw_table.append(s.count('1'))\n",
        "hw_table = np.array(hw_table, 'uint8')\n",
        "\n",
        "# Correlation of two matrices\n",
        "def correlate(x, y):\n",
        "    \"\"\"\n",
        "    Correlate all columns from matrix x of shape (a,b)\n",
        "    with all columns from matrix y of shape (a,c),\n",
        "    creating correlation matrix C of shape (b,c).\n",
        "\n",
        "    Originally matlab script by Jiri Bucek in NI-HWB.\n",
        "    \"\"\"\n",
        "    x = x - np.average(x, 0) # remove vertical averages\n",
        "    y = y - np.average(y, 0) # remove vertical averages\n",
        "    C = x.T @ y              # (n-1) Cov(x,y)\n",
        "    C = C / (np.sum(x**2, 0)**(1/2))[:,np.newaxis] # divide by (n-1) Var(x)\n",
        "    C = C / (np.sum(y**2, 0)**(1/2))               # divide by (n-1) Var(y)\n",
        "    return C\n",
        "\n",
        "# Load PT of CT from file\n",
        "def load_text(file_name):\n",
        "    \"\"\"\n",
        "    Load any text PT/CT from file containing hex strings with bytes\n",
        "    separated by spaces, one block per line\n",
        "    Output is a matrix of bytes (np.array)\n",
        "    \"\"\"\n",
        "    txt_str = open(file_name).readlines()\n",
        "    if not txt_str[-1].strip():\n",
        "        del txt_str[-1] #discard last empty line\n",
        "    #split each line into bytes and convert from hex\n",
        "    txt_bytes_list = list(\n",
        "        map(lambda line:\n",
        "                list(\n",
        "                    map(lambda s: int(s, 16), # convert from hex\n",
        "                        line.rstrip().split(\" \")) # each byte separated by spaces\n",
        "                ),\n",
        "            txt_str)\n",
        "        )\n",
        "    return np.array(txt_bytes_list, 'uint8')"
      ]
    },
    {
      "cell_type": "code",
      "execution_count": 25,
      "metadata": {
        "id": "--PH16eNuz_H"
      },
      "outputs": [],
      "source": [
        "# read plaintext inputs\n",
        "inputs = load_text(\"plaintext.txt\")\n",
        "\n",
        "# read length of one complete trace (number of samples per trace)\n",
        "with open(\"traceLength.txt\", \"r\") as fin:\n",
        "  trace_length = int(fin.readline())\n",
        "\n",
        "# trim each trace - select interesting part\n",
        "tr_start = 0\n",
        "tr_len = trace_length # CHANGE to the length of the first round;\n",
        "\n",
        "# read traces from binary file -- the whole file at once, since it is quite small\n",
        "traces = np.fromfile(\"traces.bin\", dtype='uint8') # read as linear array\n",
        "traces = np.reshape(traces, (traces.size // trace_length, trace_length)) # reshape into matrix\n",
        "traces = traces[:, tr_start : tr_start + tr_len] # select only the interesting part of each trace"
      ]
    },
    {
      "cell_type": "code",
      "execution_count": 26,
      "metadata": {
        "id": "ZVJ_Tk55u1wu",
        "colab": {
          "base_uri": "https://localhost:8080/"
        },
        "outputId": "b01d0f73-4fc7-448c-9c7e-3adc3103febf"
      },
      "outputs": [
        {
          "output_type": "stream",
          "name": "stdout",
          "text": [
            "(100, 16)\n",
            "200000\n",
            "(100, 200000)\n"
          ]
        }
      ],
      "source": [
        "print(inputs.shape) # dimensions of inputs\n",
        "print(trace_length)\n",
        "print(traces.shape) # dimensions of matrix of traces"
      ]
    },
    {
      "cell_type": "code",
      "execution_count": 27,
      "metadata": {
        "id": "6hzUcHiWxyH0",
        "colab": {
          "base_uri": "https://localhost:8080/"
        },
        "outputId": "d5264f68-c770-4e2c-fede-a171753cd63b"
      },
      "outputs": [
        {
          "output_type": "stream",
          "name": "stdout",
          "text": [
            "Collecting ipympl\n",
            "  Downloading ipympl-0.9.3-py2.py3-none-any.whl (511 kB)\n",
            "\u001b[2K     \u001b[90m━━━━━━━━━━━━━━━━━━━━━━━━━━━━━━━━━━━━━━━━\u001b[0m \u001b[32m511.6/511.6 kB\u001b[0m \u001b[31m5.3 MB/s\u001b[0m eta \u001b[36m0:00:00\u001b[0m\n",
            "\u001b[?25hRequirement already satisfied: ipython<9 in /usr/local/lib/python3.10/dist-packages (from ipympl) (7.34.0)\n",
            "Requirement already satisfied: numpy in /usr/local/lib/python3.10/dist-packages (from ipympl) (1.23.5)\n",
            "Requirement already satisfied: ipython-genutils in /usr/local/lib/python3.10/dist-packages (from ipympl) (0.2.0)\n",
            "Requirement already satisfied: pillow in /usr/local/lib/python3.10/dist-packages (from ipympl) (9.4.0)\n",
            "Requirement already satisfied: traitlets<6 in /usr/local/lib/python3.10/dist-packages (from ipympl) (5.7.1)\n",
            "Requirement already satisfied: ipywidgets<9,>=7.6.0 in /usr/local/lib/python3.10/dist-packages (from ipympl) (7.7.1)\n",
            "Requirement already satisfied: matplotlib<4,>=3.4.0 in /usr/local/lib/python3.10/dist-packages (from ipympl) (3.7.1)\n",
            "Requirement already satisfied: setuptools>=18.5 in /usr/local/lib/python3.10/dist-packages (from ipython<9->ipympl) (67.7.2)\n",
            "Collecting jedi>=0.16 (from ipython<9->ipympl)\n",
            "  Downloading jedi-0.19.1-py2.py3-none-any.whl (1.6 MB)\n",
            "\u001b[2K     \u001b[90m━━━━━━━━━━━━━━━━━━━━━━━━━━━━━━━━━━━━━━━━\u001b[0m \u001b[32m1.6/1.6 MB\u001b[0m \u001b[31m12.5 MB/s\u001b[0m eta \u001b[36m0:00:00\u001b[0m\n",
            "\u001b[?25hRequirement already satisfied: decorator in /usr/local/lib/python3.10/dist-packages (from ipython<9->ipympl) (4.4.2)\n",
            "Requirement already satisfied: pickleshare in /usr/local/lib/python3.10/dist-packages (from ipython<9->ipympl) (0.7.5)\n",
            "Requirement already satisfied: prompt-toolkit!=3.0.0,!=3.0.1,<3.1.0,>=2.0.0 in /usr/local/lib/python3.10/dist-packages (from ipython<9->ipympl) (3.0.39)\n",
            "Requirement already satisfied: pygments in /usr/local/lib/python3.10/dist-packages (from ipython<9->ipympl) (2.16.1)\n",
            "Requirement already satisfied: backcall in /usr/local/lib/python3.10/dist-packages (from ipython<9->ipympl) (0.2.0)\n",
            "Requirement already satisfied: matplotlib-inline in /usr/local/lib/python3.10/dist-packages (from ipython<9->ipympl) (0.1.6)\n",
            "Requirement already satisfied: pexpect>4.3 in /usr/local/lib/python3.10/dist-packages (from ipython<9->ipympl) (4.8.0)\n",
            "Requirement already satisfied: ipykernel>=4.5.1 in /usr/local/lib/python3.10/dist-packages (from ipywidgets<9,>=7.6.0->ipympl) (5.5.6)\n",
            "Requirement already satisfied: widgetsnbextension~=3.6.0 in /usr/local/lib/python3.10/dist-packages (from ipywidgets<9,>=7.6.0->ipympl) (3.6.6)\n",
            "Requirement already satisfied: jupyterlab-widgets>=1.0.0 in /usr/local/lib/python3.10/dist-packages (from ipywidgets<9,>=7.6.0->ipympl) (3.0.9)\n",
            "Requirement already satisfied: contourpy>=1.0.1 in /usr/local/lib/python3.10/dist-packages (from matplotlib<4,>=3.4.0->ipympl) (1.2.0)\n",
            "Requirement already satisfied: cycler>=0.10 in /usr/local/lib/python3.10/dist-packages (from matplotlib<4,>=3.4.0->ipympl) (0.12.1)\n",
            "Requirement already satisfied: fonttools>=4.22.0 in /usr/local/lib/python3.10/dist-packages (from matplotlib<4,>=3.4.0->ipympl) (4.44.0)\n",
            "Requirement already satisfied: kiwisolver>=1.0.1 in /usr/local/lib/python3.10/dist-packages (from matplotlib<4,>=3.4.0->ipympl) (1.4.5)\n",
            "Requirement already satisfied: packaging>=20.0 in /usr/local/lib/python3.10/dist-packages (from matplotlib<4,>=3.4.0->ipympl) (23.2)\n",
            "Requirement already satisfied: pyparsing>=2.3.1 in /usr/local/lib/python3.10/dist-packages (from matplotlib<4,>=3.4.0->ipympl) (3.1.1)\n",
            "Requirement already satisfied: python-dateutil>=2.7 in /usr/local/lib/python3.10/dist-packages (from matplotlib<4,>=3.4.0->ipympl) (2.8.2)\n",
            "Requirement already satisfied: jupyter-client in /usr/local/lib/python3.10/dist-packages (from ipykernel>=4.5.1->ipywidgets<9,>=7.6.0->ipympl) (6.1.12)\n",
            "Requirement already satisfied: tornado>=4.2 in /usr/local/lib/python3.10/dist-packages (from ipykernel>=4.5.1->ipywidgets<9,>=7.6.0->ipympl) (6.3.2)\n",
            "Requirement already satisfied: parso<0.9.0,>=0.8.3 in /usr/local/lib/python3.10/dist-packages (from jedi>=0.16->ipython<9->ipympl) (0.8.3)\n",
            "Requirement already satisfied: ptyprocess>=0.5 in /usr/local/lib/python3.10/dist-packages (from pexpect>4.3->ipython<9->ipympl) (0.7.0)\n",
            "Requirement already satisfied: wcwidth in /usr/local/lib/python3.10/dist-packages (from prompt-toolkit!=3.0.0,!=3.0.1,<3.1.0,>=2.0.0->ipython<9->ipympl) (0.2.9)\n",
            "Requirement already satisfied: six>=1.5 in /usr/local/lib/python3.10/dist-packages (from python-dateutil>=2.7->matplotlib<4,>=3.4.0->ipympl) (1.16.0)\n",
            "Requirement already satisfied: notebook>=4.4.1 in /usr/local/lib/python3.10/dist-packages (from widgetsnbextension~=3.6.0->ipywidgets<9,>=7.6.0->ipympl) (6.5.5)\n",
            "Requirement already satisfied: jinja2 in /usr/local/lib/python3.10/dist-packages (from notebook>=4.4.1->widgetsnbextension~=3.6.0->ipywidgets<9,>=7.6.0->ipympl) (3.1.2)\n",
            "Requirement already satisfied: pyzmq<25,>=17 in /usr/local/lib/python3.10/dist-packages (from notebook>=4.4.1->widgetsnbextension~=3.6.0->ipywidgets<9,>=7.6.0->ipympl) (23.2.1)\n",
            "Requirement already satisfied: argon2-cffi in /usr/local/lib/python3.10/dist-packages (from notebook>=4.4.1->widgetsnbextension~=3.6.0->ipywidgets<9,>=7.6.0->ipympl) (23.1.0)\n",
            "Requirement already satisfied: jupyter-core>=4.6.1 in /usr/local/lib/python3.10/dist-packages (from notebook>=4.4.1->widgetsnbextension~=3.6.0->ipywidgets<9,>=7.6.0->ipympl) (5.5.0)\n",
            "Requirement already satisfied: nbformat in /usr/local/lib/python3.10/dist-packages (from notebook>=4.4.1->widgetsnbextension~=3.6.0->ipywidgets<9,>=7.6.0->ipympl) (5.9.2)\n",
            "Requirement already satisfied: nbconvert>=5 in /usr/local/lib/python3.10/dist-packages (from notebook>=4.4.1->widgetsnbextension~=3.6.0->ipywidgets<9,>=7.6.0->ipympl) (6.5.4)\n",
            "Requirement already satisfied: nest-asyncio>=1.5 in /usr/local/lib/python3.10/dist-packages (from notebook>=4.4.1->widgetsnbextension~=3.6.0->ipywidgets<9,>=7.6.0->ipympl) (1.5.8)\n",
            "Requirement already satisfied: Send2Trash>=1.8.0 in /usr/local/lib/python3.10/dist-packages (from notebook>=4.4.1->widgetsnbextension~=3.6.0->ipywidgets<9,>=7.6.0->ipympl) (1.8.2)\n",
            "Requirement already satisfied: terminado>=0.8.3 in /usr/local/lib/python3.10/dist-packages (from notebook>=4.4.1->widgetsnbextension~=3.6.0->ipywidgets<9,>=7.6.0->ipympl) (0.17.1)\n",
            "Requirement already satisfied: prometheus-client in /usr/local/lib/python3.10/dist-packages (from notebook>=4.4.1->widgetsnbextension~=3.6.0->ipywidgets<9,>=7.6.0->ipympl) (0.18.0)\n",
            "Requirement already satisfied: nbclassic>=0.4.7 in /usr/local/lib/python3.10/dist-packages (from notebook>=4.4.1->widgetsnbextension~=3.6.0->ipywidgets<9,>=7.6.0->ipympl) (1.0.0)\n",
            "Requirement already satisfied: platformdirs>=2.5 in /usr/local/lib/python3.10/dist-packages (from jupyter-core>=4.6.1->notebook>=4.4.1->widgetsnbextension~=3.6.0->ipywidgets<9,>=7.6.0->ipympl) (3.11.0)\n",
            "Requirement already satisfied: jupyter-server>=1.8 in /usr/local/lib/python3.10/dist-packages (from nbclassic>=0.4.7->notebook>=4.4.1->widgetsnbextension~=3.6.0->ipywidgets<9,>=7.6.0->ipympl) (1.24.0)\n",
            "Requirement already satisfied: notebook-shim>=0.2.3 in /usr/local/lib/python3.10/dist-packages (from nbclassic>=0.4.7->notebook>=4.4.1->widgetsnbextension~=3.6.0->ipywidgets<9,>=7.6.0->ipympl) (0.2.3)\n",
            "Requirement already satisfied: lxml in /usr/local/lib/python3.10/dist-packages (from nbconvert>=5->notebook>=4.4.1->widgetsnbextension~=3.6.0->ipywidgets<9,>=7.6.0->ipympl) (4.9.3)\n",
            "Requirement already satisfied: beautifulsoup4 in /usr/local/lib/python3.10/dist-packages (from nbconvert>=5->notebook>=4.4.1->widgetsnbextension~=3.6.0->ipywidgets<9,>=7.6.0->ipympl) (4.11.2)\n",
            "Requirement already satisfied: bleach in /usr/local/lib/python3.10/dist-packages (from nbconvert>=5->notebook>=4.4.1->widgetsnbextension~=3.6.0->ipywidgets<9,>=7.6.0->ipympl) (6.1.0)\n",
            "Requirement already satisfied: defusedxml in /usr/local/lib/python3.10/dist-packages (from nbconvert>=5->notebook>=4.4.1->widgetsnbextension~=3.6.0->ipywidgets<9,>=7.6.0->ipympl) (0.7.1)\n",
            "Requirement already satisfied: entrypoints>=0.2.2 in /usr/local/lib/python3.10/dist-packages (from nbconvert>=5->notebook>=4.4.1->widgetsnbextension~=3.6.0->ipywidgets<9,>=7.6.0->ipympl) (0.4)\n",
            "Requirement already satisfied: jupyterlab-pygments in /usr/local/lib/python3.10/dist-packages (from nbconvert>=5->notebook>=4.4.1->widgetsnbextension~=3.6.0->ipywidgets<9,>=7.6.0->ipympl) (0.2.2)\n",
            "Requirement already satisfied: MarkupSafe>=2.0 in /usr/local/lib/python3.10/dist-packages (from nbconvert>=5->notebook>=4.4.1->widgetsnbextension~=3.6.0->ipywidgets<9,>=7.6.0->ipympl) (2.1.3)\n",
            "Requirement already satisfied: mistune<2,>=0.8.1 in /usr/local/lib/python3.10/dist-packages (from nbconvert>=5->notebook>=4.4.1->widgetsnbextension~=3.6.0->ipywidgets<9,>=7.6.0->ipympl) (0.8.4)\n",
            "Requirement already satisfied: nbclient>=0.5.0 in /usr/local/lib/python3.10/dist-packages (from nbconvert>=5->notebook>=4.4.1->widgetsnbextension~=3.6.0->ipywidgets<9,>=7.6.0->ipympl) (0.9.0)\n",
            "Requirement already satisfied: pandocfilters>=1.4.1 in /usr/local/lib/python3.10/dist-packages (from nbconvert>=5->notebook>=4.4.1->widgetsnbextension~=3.6.0->ipywidgets<9,>=7.6.0->ipympl) (1.5.0)\n",
            "Requirement already satisfied: tinycss2 in /usr/local/lib/python3.10/dist-packages (from nbconvert>=5->notebook>=4.4.1->widgetsnbextension~=3.6.0->ipywidgets<9,>=7.6.0->ipympl) (1.2.1)\n",
            "Requirement already satisfied: fastjsonschema in /usr/local/lib/python3.10/dist-packages (from nbformat->notebook>=4.4.1->widgetsnbextension~=3.6.0->ipywidgets<9,>=7.6.0->ipympl) (2.18.1)\n",
            "Requirement already satisfied: jsonschema>=2.6 in /usr/local/lib/python3.10/dist-packages (from nbformat->notebook>=4.4.1->widgetsnbextension~=3.6.0->ipywidgets<9,>=7.6.0->ipympl) (4.19.2)\n",
            "Requirement already satisfied: argon2-cffi-bindings in /usr/local/lib/python3.10/dist-packages (from argon2-cffi->notebook>=4.4.1->widgetsnbextension~=3.6.0->ipywidgets<9,>=7.6.0->ipympl) (21.2.0)\n",
            "Requirement already satisfied: attrs>=22.2.0 in /usr/local/lib/python3.10/dist-packages (from jsonschema>=2.6->nbformat->notebook>=4.4.1->widgetsnbextension~=3.6.0->ipywidgets<9,>=7.6.0->ipympl) (23.1.0)\n",
            "Requirement already satisfied: jsonschema-specifications>=2023.03.6 in /usr/local/lib/python3.10/dist-packages (from jsonschema>=2.6->nbformat->notebook>=4.4.1->widgetsnbextension~=3.6.0->ipywidgets<9,>=7.6.0->ipympl) (2023.7.1)\n",
            "Requirement already satisfied: referencing>=0.28.4 in /usr/local/lib/python3.10/dist-packages (from jsonschema>=2.6->nbformat->notebook>=4.4.1->widgetsnbextension~=3.6.0->ipywidgets<9,>=7.6.0->ipympl) (0.30.2)\n",
            "Requirement already satisfied: rpds-py>=0.7.1 in /usr/local/lib/python3.10/dist-packages (from jsonschema>=2.6->nbformat->notebook>=4.4.1->widgetsnbextension~=3.6.0->ipywidgets<9,>=7.6.0->ipympl) (0.12.0)\n",
            "Requirement already satisfied: anyio<4,>=3.1.0 in /usr/local/lib/python3.10/dist-packages (from jupyter-server>=1.8->nbclassic>=0.4.7->notebook>=4.4.1->widgetsnbextension~=3.6.0->ipywidgets<9,>=7.6.0->ipympl) (3.7.1)\n",
            "Requirement already satisfied: websocket-client in /usr/local/lib/python3.10/dist-packages (from jupyter-server>=1.8->nbclassic>=0.4.7->notebook>=4.4.1->widgetsnbextension~=3.6.0->ipywidgets<9,>=7.6.0->ipympl) (1.6.4)\n",
            "Requirement already satisfied: cffi>=1.0.1 in /usr/local/lib/python3.10/dist-packages (from argon2-cffi-bindings->argon2-cffi->notebook>=4.4.1->widgetsnbextension~=3.6.0->ipywidgets<9,>=7.6.0->ipympl) (1.16.0)\n",
            "Requirement already satisfied: soupsieve>1.2 in /usr/local/lib/python3.10/dist-packages (from beautifulsoup4->nbconvert>=5->notebook>=4.4.1->widgetsnbextension~=3.6.0->ipywidgets<9,>=7.6.0->ipympl) (2.5)\n",
            "Requirement already satisfied: webencodings in /usr/local/lib/python3.10/dist-packages (from bleach->nbconvert>=5->notebook>=4.4.1->widgetsnbextension~=3.6.0->ipywidgets<9,>=7.6.0->ipympl) (0.5.1)\n",
            "Requirement already satisfied: idna>=2.8 in /usr/local/lib/python3.10/dist-packages (from anyio<4,>=3.1.0->jupyter-server>=1.8->nbclassic>=0.4.7->notebook>=4.4.1->widgetsnbextension~=3.6.0->ipywidgets<9,>=7.6.0->ipympl) (3.4)\n",
            "Requirement already satisfied: sniffio>=1.1 in /usr/local/lib/python3.10/dist-packages (from anyio<4,>=3.1.0->jupyter-server>=1.8->nbclassic>=0.4.7->notebook>=4.4.1->widgetsnbextension~=3.6.0->ipywidgets<9,>=7.6.0->ipympl) (1.3.0)\n",
            "Requirement already satisfied: exceptiongroup in /usr/local/lib/python3.10/dist-packages (from anyio<4,>=3.1.0->jupyter-server>=1.8->nbclassic>=0.4.7->notebook>=4.4.1->widgetsnbextension~=3.6.0->ipywidgets<9,>=7.6.0->ipympl) (1.1.3)\n",
            "Requirement already satisfied: pycparser in /usr/local/lib/python3.10/dist-packages (from cffi>=1.0.1->argon2-cffi-bindings->argon2-cffi->notebook>=4.4.1->widgetsnbextension~=3.6.0->ipywidgets<9,>=7.6.0->ipympl) (2.21)\n",
            "Installing collected packages: jedi, ipympl\n",
            "Successfully installed ipympl-0.9.3 jedi-0.19.1\n"
          ]
        }
      ],
      "source": [
        "# Enable interactive zooming plots. Skip if it causes problems.\n",
        "try:\n",
        "    from google.colab import output\n",
        "    output.enable_custom_widget_manager()\n",
        "except:\n",
        "    pass # we are not in Google Colab, never mind\n",
        "# We need ipympl for interactive plots\n",
        "try:\n",
        "    import ipympl\n",
        "except:\n",
        "    !pip install ipympl\n",
        "# This finally enables interactive plots\n",
        "%matplotlib widget\n",
        "# %matplotlib notebook"
      ]
    },
    {
      "cell_type": "code",
      "execution_count": 28,
      "metadata": {
        "id": "wDAUVmNOu3BP",
        "colab": {
          "base_uri": "https://localhost:8080/",
          "height": 569,
          "referenced_widgets": [
            "4a5e2cfbc90446499261fcb7dcf4c749",
            "4d9678c29bdc4275bca9c2f3ecc57103",
            "635895f0f55840c5b367eab1e9cdfda1",
            "512f270e267a42ac9e6cdee518cc17cb"
          ]
        },
        "outputId": "fa7385e7-7d8b-412f-8ec4-2f85b84a581f"
      },
      "outputs": [
        {
          "output_type": "display_data",
          "data": {
            "text/plain": [
              "Canvas(toolbar=Toolbar(toolitems=[('Home', 'Reset original view', 'home', 'home'), ('Back', 'Back to previous …"
            ],
            "image/png": "[encoded data removed]",
            "text/html": [
              "\n",
              "            <div style=\"display: inline-block;\">\n",
              "                <div class=\"jupyter-widgets widget-label\" style=\"text-align: center;\">\n",
              "                    Figure\n",
              "                </div>\n",
              "                <img src='data:image/png;base64,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' width=640.0/>\n",
              "            </div>\n",
              "        "
            ],
            "application/vnd.jupyter.widget-view+json": {
              "version_major": 2,
              "version_minor": 0,
              "model_id": "4a5e2cfbc90446499261fcb7dcf4c749"
            }
          },
          "metadata": {
            "application/vnd.jupyter.widget-view+json": {
              "colab": {
                "custom_widget_manager": {
                  "url": "https://ssl.gstatic.com/colaboratory-static/widgets/colab-cdn-widget-manager/b3e629b1971e1542/manager.min.js"
                }
              }
            }
          }
        }
      ],
      "source": [
        "# Plot one trace\n",
        "fig = plt.figure()\n",
        "plt.plot(traces[0])\n",
        "plt.show()"
      ]
    },
    {
      "cell_type": "markdown",
      "metadata": {
        "id": "w6boaqAQvF1G"
      },
      "source": [
        "## **Attack the first key byte**\n",
        "![Intermediate value](dpa-aes-v.png)\n"
      ]
    },
    {
      "cell_type": "code",
      "execution_count": 29,
      "metadata": {
        "id": "WaKiOUmbvbQR"
      },
      "outputs": [],
      "source": [
        "# Generate key hypotheses (all possible byte values)\n",
        "keys = np.arange(start=0, stop=256, step=1, dtype='uint8')\n",
        "# Select the first byte of each input block\n",
        "input_byte = inputs[:, 0]\n",
        "# XOR each data byte with each key (using Numpy broadcasting)\n",
        "xmat = input_byte[:, np.newaxis] ^ keys"
      ]
    },
    {
      "cell_type": "code",
      "execution_count": 32,
      "metadata": {
        "colab": {
          "base_uri": "https://localhost:8080/"
        },
        "id": "rc6-EMyDT6Kn",
        "outputId": "b0dc92e2-c69d-400b-bf11-71fb3ebfdf22"
      },
      "outputs": [
        {
          "output_type": "stream",
          "name": "stdout",
          "text": [
            "[[ 37 235 140 ...  71 237 252]\n",
            " [134  25 178 ... 142  50  68]\n",
            " [215 215 233 ...  61  22  57]\n",
            " ...\n",
            " [ 18 188 253 ...  68 197 189]\n",
            " [ 87 194  19 ... 160   8 136]\n",
            " [148 238  68 ...  23  94 218]]\n",
            "[ 37 134 215   1 149  15  23  25 248  76  23  82  71  97 142  69 144  33\n",
            " 109  44 188  79 206 178 123 252 219  91  82 230  53 144  27  46 149  87\n",
            " 146 139 140  56 216  74  24 102   7  54 138  90 102 221 199  93  17 176\n",
            " 180 189 233 113   0  46 104 239  41 251  23  30 155  36 129  20   1  15\n",
            " 178 199 229  92   5 161 199 245  59   7  52 174 232 139 115  31 134 235\n",
            "  85 180  71  78 228 192 189  18  87 148]\n",
            "inputs.shape = (100, 16)\n",
            "input_byte.shape = (100,)\n",
            "input_byte[:, np.newaxis].shape = (100, 1)\n",
            "keys.shape = (256,)\n",
            "xmat.shape = (100, 256)\n",
            "[[ 37  36  39 ... 216 219 218]\n",
            " [134 135 132 ... 123 120 121]\n",
            " [215 214 213 ...  42  41  40]\n",
            " ...\n",
            " [ 18  19  16 ... 239 236 237]\n",
            " [ 87  86  85 ... 170 169 168]\n",
            " [148 149 150 ... 105 106 107]]\n"
          ]
        }
      ],
      "source": [
        "# Examine the inputs matrix. Does it contain the data from plaintext.txt?\n",
        "print(inputs)\n",
        "print(input_byte)\n",
        "# What is the shape of all the operands from the previous cell?\n",
        "print(f\"{inputs.shape = }\")\n",
        "print(f\"{input_byte.shape = }\")\n",
        "print(f\"{input_byte[:, np.newaxis].shape = }\")\n",
        "print(f\"{keys.shape = }\")\n",
        "print(f\"{xmat.shape = }\")\n",
        "# Do you understand the values after the XOR operation? What AES operation do they represent?\n",
        "print(xmat)"
      ]
    },
    {
      "cell_type": "code",
      "execution_count": 33,
      "metadata": {
        "id": "VrBZd18VwBOH",
        "colab": {
          "base_uri": "https://localhost:8080/"
        },
        "outputId": "20f094b1-9c38-42de-8b36-b639fae5f704"
      },
      "outputs": [
        {
          "output_type": "stream",
          "name": "stdout",
          "text": [
            "[[ 63  54 204 ...  97 185  87]\n",
            " [ 68  23  95 ...  33 188 182]\n",
            " [ 14 246   3 ... 229 165  52]\n",
            " ...\n",
            " [201 125 202 ... 223 206  85]\n",
            " [ 91 177 252 ... 172 211 194]\n",
            " [ 34  42 144 ... 249   2 127]]\n",
            "(100, 256)\n"
          ]
        }
      ],
      "source": [
        "# Substitute with SBOX all XORed values -- matrix of intermediate values\n",
        "smat = sbox[xmat]\n",
        "print(smat)\n",
        "print(smat.shape)"
      ]
    },
    {
      "cell_type": "code",
      "execution_count": 34,
      "metadata": {
        "id": "4GfR9BU-wT4G",
        "colab": {
          "base_uri": "https://localhost:8080/"
        },
        "outputId": "0fd8d313-7896-4ad3-e88d-8b355945a225"
      },
      "outputs": [
        {
          "output_type": "stream",
          "name": "stdout",
          "text": [
            "[[6 4 4 ... 3 5 5]\n",
            " [2 4 6 ... 2 5 5]\n",
            " [3 6 2 ... 5 4 3]\n",
            " ...\n",
            " [4 6 4 ... 7 5 4]\n",
            " [5 4 6 ... 4 5 3]\n",
            " [2 3 2 ... 6 1 7]]\n",
            "(100, 256)\n"
          ]
        }
      ],
      "source": [
        "# Compute Hamming Weights -- the matrix of hypothetical power consumption\n",
        "hmat = hw_table[smat]\n",
        "print(hmat)\n",
        "print(hmat.shape)"
      ]
    },
    {
      "cell_type": "code",
      "execution_count": 35,
      "metadata": {
        "id": "J8TTPk-WwjQH",
        "colab": {
          "base_uri": "https://localhost:8080/"
        },
        "outputId": "ec6e0662-d68c-4af3-c4a7-7e0da081c841"
      },
      "outputs": [
        {
          "output_type": "stream",
          "name": "stdout",
          "text": [
            "(100, 256)\n",
            "(100, 200000)\n",
            "[[-0.09996869 -0.08163088 -0.00677031 ...  0.04092881 -0.08513913\n",
            "   0.11723421]\n",
            " [ 0.1493681   0.12922248  0.1232608  ... -0.06656259 -0.01887427\n",
            "  -0.12409546]\n",
            " [ 0.08803485  0.02476164  0.13091204 ...  0.20924355  0.08109688\n",
            "   0.06185696]\n",
            " ...\n",
            " [-0.02060608  0.15601015  0.07447815 ...  0.21329962 -0.09128557\n",
            "  -0.13709434]\n",
            " [-0.07813509 -0.02154776 -0.0629129  ...  0.04557658 -0.04683356\n",
            "   0.08107662]\n",
            " [-0.10571881 -0.08913038 -0.00789676 ... -0.04122821 -0.09576169\n",
            "   0.02866201]] (256, 200000)\n"
          ]
        }
      ],
      "source": [
        "# Compute the correlation matrix -- correlate the hypotheses with measured traces\n",
        "print(hmat.shape)\n",
        "print(traces.shape)\n",
        "corr = correlate(hmat, traces)\n",
        "print(corr, corr.shape)\n",
        "# What is the shape and contents of the correlation matrix?"
      ]
    },
    {
      "cell_type": "code",
      "execution_count": 36,
      "metadata": {
        "id": "iOqbuNAKxCvP",
        "colab": {
          "base_uri": "https://localhost:8080/"
        },
        "outputId": "03c51af4-226a-4329-8f27-15b73724cd54"
      },
      "outputs": [
        {
          "output_type": "stream",
          "name": "stdout",
          "text": [
            "key: 222 time: 3348\n",
            "key: Þ, de\n"
          ]
        }
      ],
      "source": [
        "# Find the absolute maximum correlation\n",
        "acorr = abs(corr)\n",
        "max_acorr = acorr.max()\n",
        "(k, j) = np.where(acorr == max_acorr) # find idices of maximum\n",
        "print(\"key: %d time: %d\" % (k[0], j[0]))\n",
        "print(\"key: %1c, %02x\" % (k[0], k[0]))"
      ]
    },
    {
      "cell_type": "code",
      "execution_count": 39,
      "metadata": {
        "colab": {
          "base_uri": "https://localhost:8080/",
          "height": 569,
          "referenced_widgets": [
            "d6b626cbb89a4288bd6cec2316627422",
            "b7e072fe2f484d8da27731435c3c33d4",
            "398b60bbb1484d0bac861f3289f9ab3a",
            "750b28eda64d44b89be2fca131264c0d"
          ]
        },
        "id": "MUH8lV_gT6Ko",
        "outputId": "d86dfb0e-d875-40e8-e8bc-532d8ae01d28"
      },
      "outputs": [
        {
          "output_type": "display_data",
          "data": {
            "text/plain": [
              "Canvas(toolbar=Toolbar(toolitems=[('Home', 'Reset original view', 'home', 'home'), ('Back', 'Back to previous …"
            ],
            "image/png": "[encoded data removed]",
            "text/html": [
              "\n",
              "            <div style=\"display: inline-block;\">\n",
              "                <div class=\"jupyter-widgets widget-label\" style=\"text-align: center;\">\n",
              "                    Figure\n",
              "                </div>\n",
              "                <img src='data:image/png;base64,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' width=640.0/>\n",
              "            </div>\n",
              "        "
            ],
            "application/vnd.jupyter.widget-view+json": {
              "version_major": 2,
              "version_minor": 0,
              "model_id": "d6b626cbb89a4288bd6cec2316627422"
            }
          },
          "metadata": {
            "application/vnd.jupyter.widget-view+json": {
              "colab": {
                "custom_widget_manager": {
                  "url": "https://ssl.gstatic.com/colaboratory-static/widgets/colab-cdn-widget-manager/b3e629b1971e1542/manager.min.js"
                }
              }
            }
          }
        }
      ],
      "source": [
        "# Plot the correlation traces for the right key byte guess and one wrong key byte guess\n",
        "# Do you see the correlation peaks?\n",
        "fig = plt.figure()\n",
        "plt.plot(corr[k[0]])\n",
        "plt.plot(corr[1])\n",
        "plt.show()"
      ]
    },
    {
      "cell_type": "markdown",
      "metadata": {
        "id": "Z62RVYJYzncZ"
      },
      "source": [
        "## **Break all key bytes!**"
      ]
    },
    {
      "cell_type": "code",
      "execution_count": 40,
      "metadata": {
        "id": "T7HhwO-ezpoQ",
        "colab": {
          "base_uri": "https://localhost:8080/",
          "height": 295
        },
        "outputId": "ed4986d4-d49a-4af9-d1a8-b285d35f0bee"
      },
      "outputs": [
        {
          "output_type": "stream",
          "name": "stdout",
          "text": [
            "Þ, de @ 3348\n",
            "­, ad @ 15779\n",
            "¾, be @ 3829\n",
            "ï, ef @ 4045\n",
            " , 20 @ 4280\n",
            "t, 74 @ 9180\n",
            "o, 6f @ 4744\n",
            "p, 70 @ 9064\n",
            " , 20 @ 5209\n",
            "s, 73 @ 5441\n",
            "e, 65 @ 5678\n",
            "c, 63 @ 17859\n",
            "r, 72 @ 17175\n",
            "e, 65 @ 13170\n",
            "t, 74 @ 6605\n",
            "!, 21 @ 6837\n"
          ]
        }
      ],
      "source": [
        "keys = np.array(range(0, 256))\n",
        "kk = np.zeros(16, dtype='uint8')\n",
        "for i in range(0, 16):\n",
        "    input_byte = inputs[:, i]\n",
        "    #????\n",
        "    # XOR each data byte with each key (using Numpy broadcasting)\n",
        "    xmat = input_byte[:, np.newaxis] ^ keys\n",
        "    # Substitute with SBOX all XORed values -- matrix of intermediate values\n",
        "    smat = sbox[xmat]\n",
        "    # Compute Hamming Weights -- the matrix of hypothetical power consumption\n",
        "    hmat = hw_table[smat]\n",
        "    # Compute the correlation matrix -- correlate the hypotheses with measured traces\n",
        "    corr = correlate(hmat, traces)\n",
        "    # Find the absolute maximum correlation\n",
        "    acorr = abs(corr)\n",
        "    max_acorr = acorr.max()\n",
        "    (k, j) = np.where(acorr == max_acorr) # find idices of maximum\n",
        "    #????\n",
        "    kk[i] = k\n",
        "    print(\"%1c, %02x @ %d\" % (k[0], k[0], j[0]))"
      ]
    },
    {
      "cell_type": "markdown",
      "metadata": {
        "id": "QzOnNfW4T6Ko"
      },
      "source": [
        "## **Verify the key on a PT, CT pair!**"
      ]
    },
    {
      "cell_type": "code",
      "execution_count": 51,
      "metadata": {
        "id": "5IZNvF63T6Ko"
      },
      "outputs": [],
      "source": [
        "key_bytes = bytes(kk)\n",
        "outputs = load_text(\"ciphertext.txt\")\n",
        "output_bytes = bytes(outputs)"
      ]
    },
    {
      "cell_type": "code",
      "execution_count": 53,
      "metadata": {
        "colab": {
          "base_uri": "https://localhost:8080/",
          "height": 34
        },
        "id": "KLIT-775T6Ko",
        "outputId": "256b15c0-b391-431f-f963-4786dc3112dc"
      },
      "outputs": [
        {
          "output_type": "stream",
          "name": "stdout",
          "text": [
            "True\n"
          ]
        }
      ],
      "source": [
        "# !pip install pycryptodome\n",
        "from Crypto.Cipher import AES\n",
        "cipher = AES.new(key_bytes, AES.MODE_ECB)\n",
        "#??\n",
        "input = load_text(\"plaintext.txt\")\n",
        "input_bytes = bytes(input)\n",
        "ciphertext = cipher.encrypt(input_bytes)\n",
        "\n",
        "print(output_bytes == ciphertext)"
      ]
    },
    {
      "cell_type": "code",
      "source": [],
      "metadata": {
        "id": "OkCNyvdTj71l"
      },
      "execution_count": null,
      "outputs": []
    }
  ],
  "metadata": {
    "colab": {
      "provenance": []
    },
    "kernelspec": {
      "display_name": "Python 3",
      "name": "python3"
    },
    "language_info": {
      "codemirror_mode": {
        "name": "ipython",
        "version": 3
      },
      "file_extension": ".py",
      "mimetype": "text/x-python",
      "name": "python",
      "nbconvert_exporter": "python",
      "pygments_lexer": "ipython3",
      "version": "3.9.1"
    },
    "widgets": {
      "application/vnd.jupyter.widget-state+json": {
        "4a5e2cfbc90446499261fcb7dcf4c749": {
          "model_module": "jupyter-matplotlib",
          "model_name": "MPLCanvasModel",
          "model_module_version": "^0.11",
          "state": {
            "_cursor": "default",
            "_data_url": "data:image/png;base64,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",
            "_dom_classes": [],
            "_figure_label": "Figure 1",
            "_image_mode": "diff",
            "_message": "",
            "_model_module": "jupyter-matplotlib",
            "_model_module_version": "^0.11",
            "_model_name": "MPLCanvasModel",
            "_rubberband_height": 0,
            "_rubberband_width": 0,
            "_rubberband_x": 0,
            "_rubberband_y": 481,
            "_size": [
              640,
              480
            ],
            "_view_count": null,
            "_view_module": "jupyter-matplotlib",
            "_view_module_version": "^0.11",
            "_view_name": "MPLCanvasView",
            "capture_scroll": false,
            "footer_visible": true,
            "header_visible": true,
            "layout": "IPY_MODEL_4d9678c29bdc4275bca9c2f3ecc57103",
            "pan_zoom_throttle": 33,
            "resizable": true,
            "toolbar": "IPY_MODEL_635895f0f55840c5b367eab1e9cdfda1",
            "toolbar_position": "left",
            "toolbar_visible": "fade-in-fade-out"
          }
        },
        "4d9678c29bdc4275bca9c2f3ecc57103": {
          "model_module": "@jupyter-widgets/base",
          "model_name": "LayoutModel",
          "model_module_version": "1.2.0",
          "state": {
            "_model_module": "@jupyter-widgets/base",
            "_model_module_version": "1.2.0",
            "_model_name": "LayoutModel",
            "_view_count": null,
            "_view_module": "@jupyter-widgets/base",
            "_view_module_version": "1.2.0",
            "_view_name": "LayoutView",
            "align_content": null,
            "align_items": null,
            "align_self": null,
            "border": null,
            "bottom": null,
            "display": null,
            "flex": null,
            "flex_flow": null,
            "grid_area": null,
            "grid_auto_columns": null,
            "grid_auto_flow": null,
            "grid_auto_rows": null,
            "grid_column": null,
            "grid_gap": null,
            "grid_row": null,
            "grid_template_areas": null,
            "grid_template_columns": null,
            "grid_template_rows": null,
            "height": null,
            "justify_content": null,
            "justify_items": null,
            "left": null,
            "margin": null,
            "max_height": null,
            "max_width": null,
            "min_height": null,
            "min_width": null,
            "object_fit": null,
            "object_position": null,
            "order": null,
            "overflow": null,
            "overflow_x": null,
            "overflow_y": null,
            "padding": null,
            "right": null,
            "top": null,
            "visibility": null,
            "width": null
          }
        },
        "635895f0f55840c5b367eab1e9cdfda1": {
          "model_module": "jupyter-matplotlib",
          "model_name": "ToolbarModel",
          "model_module_version": "^0.11",
          "state": {
            "_current_action": "zoom",
            "_dom_classes": [],
            "_model_module": "jupyter-matplotlib",
            "_model_module_version": "^0.11",
            "_model_name": "ToolbarModel",
            "_view_count": null,
            "_view_module": "jupyter-matplotlib",
            "_view_module_version": "^0.11",
            "_view_name": "ToolbarView",
            "button_style": "",
            "collapsed": true,
            "layout": "IPY_MODEL_512f270e267a42ac9e6cdee518cc17cb",
            "orientation": "vertical",
            "toolitems": [
              [
                "Home",
                "Reset original view",
                "home",
                "home"
              ],
              [
                "Back",
                "Back to previous view",
                "arrow-left",
                "back"
              ],
              [
                "Forward",
                "Forward to next view",
                "arrow-right",
                "forward"
              ],
              [
                "Pan",
                "Left button pans, Right button zooms\nx/y fixes axis, CTRL fixes aspect",
                "arrows",
                "pan"
              ],
              [
                "Zoom",
                "Zoom to rectangle\nx/y fixes axis",
                "square-o",
                "zoom"
              ],
              [
                "Download",
                "Download plot",
                "floppy-o",
                "save_figure"
              ]
            ]
          }
        },
        "512f270e267a42ac9e6cdee518cc17cb": {
          "model_module": "@jupyter-widgets/base",
          "model_name": "LayoutModel",
          "model_module_version": "1.2.0",
          "state": {
            "_model_module": "@jupyter-widgets/base",
            "_model_module_version": "1.2.0",
            "_model_name": "LayoutModel",
            "_view_count": null,
            "_view_module": "@jupyter-widgets/base",
            "_view_module_version": "1.2.0",
            "_view_name": "LayoutView",
            "align_content": null,
            "align_items": null,
            "align_self": null,
            "border": null,
            "bottom": null,
            "display": null,
            "flex": null,
            "flex_flow": null,
            "grid_area": null,
            "grid_auto_columns": null,
            "grid_auto_flow": null,
            "grid_auto_rows": null,
            "grid_column": null,
            "grid_gap": null,
            "grid_row": null,
            "grid_template_areas": null,
            "grid_template_columns": null,
            "grid_template_rows": null,
            "height": null,
            "justify_content": null,
            "justify_items": null,
            "left": null,
            "margin": null,
            "max_height": null,
            "max_width": null,
            "min_height": null,
            "min_width": null,
            "object_fit": null,
            "object_position": null,
            "order": null,
            "overflow": null,
            "overflow_x": null,
            "overflow_y": null,
            "padding": null,
            "right": null,
            "top": null,
            "visibility": null,
            "width": null
          }
        },
        "d6b626cbb89a4288bd6cec2316627422": {
          "model_module": "jupyter-matplotlib",
          "model_name": "MPLCanvasModel",
          "model_module_version": "^0.11",
          "state": {
            "_cursor": "default",
            "_data_url": "data:image/png;base64,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",
            "_dom_classes": [],
            "_figure_label": "Figure 4",
            "_image_mode": "full",
            "_message": "",
            "_model_module": "jupyter-matplotlib",
            "_model_module_version": "^0.11",
            "_model_name": "MPLCanvasModel",
            "_rubberband_height": 0,
            "_rubberband_width": 0,
            "_rubberband_x": 0,
            "_rubberband_y": 0,
            "_size": [
              640,
              480
            ],
            "_view_count": null,
            "_view_module": "jupyter-matplotlib",
            "_view_module_version": "^0.11",
            "_view_name": "MPLCanvasView",
            "capture_scroll": false,
            "footer_visible": true,
            "header_visible": true,
            "layout": "IPY_MODEL_b7e072fe2f484d8da27731435c3c33d4",
            "pan_zoom_throttle": 33,
            "resizable": true,
            "toolbar": "IPY_MODEL_398b60bbb1484d0bac861f3289f9ab3a",
            "toolbar_position": "left",
            "toolbar_visible": "fade-in-fade-out"
          }
        },
        "b7e072fe2f484d8da27731435c3c33d4": {
          "model_module": "@jupyter-widgets/base",
          "model_name": "LayoutModel",
          "model_module_version": "1.2.0",
          "state": {
            "_model_module": "@jupyter-widgets/base",
            "_model_module_version": "1.2.0",
            "_model_name": "LayoutModel",
            "_view_count": null,
            "_view_module": "@jupyter-widgets/base",
            "_view_module_version": "1.2.0",
            "_view_name": "LayoutView",
            "align_content": null,
            "align_items": null,
            "align_self": null,
            "border": null,
            "bottom": null,
            "display": null,
            "flex": null,
            "flex_flow": null,
            "grid_area": null,
            "grid_auto_columns": null,
            "grid_auto_flow": null,
            "grid_auto_rows": null,
            "grid_column": null,
            "grid_gap": null,
            "grid_row": null,
            "grid_template_areas": null,
            "grid_template_columns": null,
            "grid_template_rows": null,
            "height": null,
            "justify_content": null,
            "justify_items": null,
            "left": null,
            "margin": null,
            "max_height": null,
            "max_width": null,
            "min_height": null,
            "min_width": null,
            "object_fit": null,
            "object_position": null,
            "order": null,
            "overflow": null,
            "overflow_x": null,
            "overflow_y": null,
            "padding": null,
            "right": null,
            "top": null,
            "visibility": null,
            "width": null
          }
        },
        "398b60bbb1484d0bac861f3289f9ab3a": {
          "model_module": "jupyter-matplotlib",
          "model_name": "ToolbarModel",
          "model_module_version": "^0.11",
          "state": {
            "_current_action": "",
            "_dom_classes": [],
            "_model_module": "jupyter-matplotlib",
            "_model_module_version": "^0.11",
            "_model_name": "ToolbarModel",
            "_view_count": null,
            "_view_module": "jupyter-matplotlib",
            "_view_module_version": "^0.11",
            "_view_name": "ToolbarView",
            "button_style": "",
            "collapsed": true,
            "layout": "IPY_MODEL_750b28eda64d44b89be2fca131264c0d",
            "orientation": "vertical",
            "toolitems": [
              [
                "Home",
                "Reset original view",
                "home",
                "home"
              ],
              [
                "Back",
                "Back to previous view",
                "arrow-left",
                "back"
              ],
              [
                "Forward",
                "Forward to next view",
                "arrow-right",
                "forward"
              ],
              [
                "Pan",
                "Left button pans, Right button zooms\nx/y fixes axis, CTRL fixes aspect",
                "arrows",
                "pan"
              ],
              [
                "Zoom",
                "Zoom to rectangle\nx/y fixes axis",
                "square-o",
                "zoom"
              ],
              [
                "Download",
                "Download plot",
                "floppy-o",
                "save_figure"
              ]
            ]
          }
        },
        "750b28eda64d44b89be2fca131264c0d": {
          "model_module": "@jupyter-widgets/base",
          "model_name": "LayoutModel",
          "model_module_version": "1.2.0",
          "state": {
            "_model_module": "@jupyter-widgets/base",
            "_model_module_version": "1.2.0",
            "_model_name": "LayoutModel",
            "_view_count": null,
            "_view_module": "@jupyter-widgets/base",
            "_view_module_version": "1.2.0",
            "_view_name": "LayoutView",
            "align_content": null,
            "align_items": null,
            "align_self": null,
            "border": null,
            "bottom": null,
            "display": null,
            "flex": null,
            "flex_flow": null,
            "grid_area": null,
            "grid_auto_columns": null,
            "grid_auto_flow": null,
            "grid_auto_rows": null,
            "grid_column": null,
            "grid_gap": null,
            "grid_row": null,
            "grid_template_areas": null,
            "grid_template_columns": null,
            "grid_template_rows": null,
            "height": null,
            "justify_content": null,
            "justify_items": null,
            "left": null,
            "margin": null,
            "max_height": null,
            "max_width": null,
            "min_height": null,
            "min_width": null,
            "object_fit": null,
            "object_position": null,
            "order": null,
            "overflow": null,
            "overflow_x": null,
            "overflow_y": null,
            "padding": null,
            "right": null,
            "top": null,
            "visibility": null,
            "width": null
          }
        }
      }
    }
  },
  "nbformat": 4,
  "nbformat_minor": 0
}