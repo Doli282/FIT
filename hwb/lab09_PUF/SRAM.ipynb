{
  "cells": [
    {
      "cell_type": "code",
      "execution_count": 82,
      "metadata": {
        "id": "CcpKNISt-wjp"
      },
      "outputs": [],
      "source": [
        "import os\n",
        "import numpy as np\n",
        "\n",
        "if not os.path.exists(\"data/\"):\n",
        "  !mkdir data\n",
        "\n",
        "if not os.path.exists(\"data/chip1.bin\"):\n",
        "  if not os.path.exists(\"data/SRAM_data.zip\"):\n",
        "    !wget https://users.fit.cvut.cz/bucekj/SRAM_data.zip -O SRAM_data.zip\n",
        "  !unzip SRAM_data.zip -d data\n",
        "  !rm SRAM_data.zip"
      ]
    },
    {
      "cell_type": "code",
      "execution_count": 81,
      "metadata": {
        "id": "hQGW2bpP-wjr"
      },
      "outputs": [],
      "source": [
        "# Load Datafiles\n",
        "\n",
        "MEASUREMENTS = 1000\n",
        "MEM_SIZE = 512*8\n",
        "CHIPS = 10\n",
        "\n",
        "rams = np.zeros([CHIPS,MEASUREMENTS,MEM_SIZE], dtype=np.uint8)\n",
        "for i in range(CHIPS):\n",
        "    rams[i] = np.reshape(np.unpackbits(np.fromfile(f'data/chip{i+1}.bin', dtype='uint8')), ([MEASUREMENTS, MEM_SIZE]))"
      ]
    },
    {
      "cell_type": "code",
      "source": [
        "print(rams, rams.shape, rams.dtype)"
      ],
      "metadata": {
        "id": "b5S50-2wARMY"
      },
      "execution_count": null,
      "outputs": []
    },
    {
      "cell_type": "code",
      "execution_count": 61,
      "metadata": {
        "id": "xM0lX40a-wjs"
      },
      "outputs": [],
      "source": [
        "# means -> \"stability of bits\"\n",
        "means = rams.mean(axis=1, keepdims=True)\n",
        "\n",
        "# Reference responses\n",
        "refs = means.round().astype(int)"
      ]
    },
    {
      "cell_type": "code",
      "source": [
        "print(means)\n",
        "print(means.shape)"
      ],
      "metadata": {
        "id": "a_KwDKJSArBP"
      },
      "execution_count": null,
      "outputs": []
    },
    {
      "cell_type": "code",
      "execution_count": 62,
      "metadata": {
        "colab": {
          "base_uri": "https://localhost:8080/"
        },
        "id": "V7xR9NE9-wjt",
        "outputId": "f26c01be-869d-4ffc-af1c-26b04a129c7e"
      },
      "outputs": [
        {
          "output_type": "stream",
          "name": "stdout",
          "text": [
            "HD_intra = 0.030485107421875 ~ 3 %\n"
          ]
        }
      ],
      "source": [
        "# Intra-Hamming distance\n",
        "# XOR reference with the acutal measurement and create an average from it\n",
        "hd_intra = np.mean(rams ^ refs)\n",
        "print('HD_intra =', hd_intra ,'~',(hd_intra*100).astype(int),'%')"
      ]
    },
    {
      "cell_type": "code",
      "execution_count": 63,
      "metadata": {
        "colab": {
          "base_uri": "https://localhost:8080/"
        },
        "id": "JHEVb-ja-wju",
        "outputId": "8d625ee2-516c-488c-f915-57fce8723b77"
      },
      "outputs": [
        {
          "output_type": "stream",
          "name": "stdout",
          "text": [
            "HD_inter = 0.43573133680555554 ~ 43 %\n"
          ]
        }
      ],
      "source": [
        "# Inter-Hamming distance\n",
        "# XOR reference of a chip with references of the other chips\n",
        "xor_ref = refs ^ refs.transpose([1,0,2])\n",
        "hd_inter = np.sum(xor_ref)/(CHIPS*(CHIPS-1)*MEM_SIZE)\n",
        "print('HD_inter =', hd_inter ,'~',(hd_inter*100).astype(int),'%')"
      ]
    },
    {
      "cell_type": "code",
      "execution_count": 64,
      "metadata": {
        "id": "b6gSUtdO-wju"
      },
      "outputs": [],
      "source": [
        "#  Mask of stable bits - Black magic\n",
        "stable = ((means < 0.05) | (means > 0.95))\n",
        "masked_refs = np.zeros([10,1,1024],dtype='uint8')\n",
        "masked_rams = np.zeros([10,1000,1024],dtype='uint8')\n",
        "for i in range (10):\n",
        "    index = np.nonzero(stable[i])\n",
        "    masked_refs[i] = refs[i][index][:1024]\n",
        "    masked_rams[i] = rams[i][:,index[1][:1024]]"
      ]
    },
    {
      "cell_type": "code",
      "execution_count": 65,
      "metadata": {
        "colab": {
          "base_uri": "https://localhost:8080/"
        },
        "id": "lIjVxD7m-wjv",
        "outputId": "c36eab37-26e8-4d1a-e21d-5c00ebaeacc8"
      },
      "outputs": [
        {
          "output_type": "stream",
          "name": "stdout",
          "text": [
            "HD_intra_masked = 0.0017783203125 ~ 0 %\n"
          ]
        }
      ],
      "source": [
        "# Intra-Hamming distance for the masked PUF\n",
        "# XOR reference with the acutal measurement and create an average from it\n",
        "hd_intra_masked = np.mean(masked_rams ^ masked_refs)\n",
        "print('HD_intra_masked =', hd_intra_masked ,'~',(hd_intra_masked*100).astype(int),'%')"
      ]
    },
    {
      "cell_type": "code",
      "execution_count": 66,
      "metadata": {
        "colab": {
          "base_uri": "https://localhost:8080/"
        },
        "id": "j0pR5hs5-wjv",
        "outputId": "80922454-c12b-44c7-f3d8-82c437804203"
      },
      "outputs": [
        {
          "output_type": "stream",
          "name": "stdout",
          "text": [
            "HD_inter_masked = 0.4957682291666667 ~ 49 %\n"
          ]
        }
      ],
      "source": [
        "# Inter-Hamming distance for the masked PUF\n",
        "# XOR reference of a chip with references of the other chips\n",
        "xor_masked_ref = masked_refs ^ masked_refs.transpose([1,0,2])\n",
        "hd_inter_masked = np.sum(xor_masked_ref)/(CHIPS*(CHIPS-1)*1024)\n",
        "print('HD_inter_masked =', hd_inter_masked ,'~',(hd_inter_masked*100).astype(int),'%')"
      ]
    },
    {
      "cell_type": "code",
      "source": [
        "# Mask stable bits - best selection\n",
        "PUF_bits = 1024\n",
        "\n",
        "masked_refs_best = np.zeros([CHIPS,1,PUF_bits],dtype='uint8')\n",
        "masked_rams_best = np.zeros([CHIPS,MEASUREMENTS,PUF_bits],dtype='uint8')\n",
        "masks = np.zeros([CHIPS,1,MEM_SIZE],dtype='uint8')\n",
        "\n",
        "# Iterate through each row\n",
        "for i in range(CHIPS):\n",
        "    row = means[i, 0]  # Select the current row\n",
        "\n",
        "    # Find indices of values closest to either 0 or 1\n",
        "    indices_0 = np.argsort(np.minimum(row, 1 - row))[:PUF_bits]\n",
        "\n",
        "    # Set the selected indices to 1\n",
        "    masks[i, 0, indices_0] = 1\n",
        "\n",
        "    # Chose masked bits for reference\n",
        "    selected_values = refs[i, 0, indices_0]\n",
        "    masked_refs_best[i, 0, :] = selected_values\n",
        "\n",
        "    # Chose masked bits from rams for PUF\n",
        "    selected_values2 = rams[i, : , indices_0]\n",
        "    masked_rams_best[i, :, :] = selected_values2.transpose()"
      ],
      "metadata": {
        "id": "txSiA94vH0Px"
      },
      "execution_count": 67,
      "outputs": []
    },
    {
      "cell_type": "code",
      "source": [
        "# Save masks into file\n",
        "masks =  np.squeeze(masks, axis=1)\n",
        "np.savetxt('masks.txt', masks.astype(int), fmt='%d', delimiter='')"
      ],
      "metadata": {
        "id": "e8jpkpXMRKaO"
      },
      "execution_count": 68,
      "outputs": []
    },
    {
      "cell_type": "code",
      "source": [
        "print(masked_refs_best.shape)\n",
        "print(masked_refs_best)"
      ],
      "metadata": {
        "id": "bwSQXj0IRE8o"
      },
      "execution_count": null,
      "outputs": []
    },
    {
      "cell_type": "code",
      "source": [
        "print(masked_rams_best.shape)\n",
        "print(masked_rams_best)"
      ],
      "metadata": {
        "id": "P3fm9cwfV-Ag"
      },
      "execution_count": null,
      "outputs": []
    },
    {
      "cell_type": "code",
      "source": [
        "print(masks.shape)\n",
        "print(masks)"
      ],
      "metadata": {
        "id": "TQ3XvtAfR2zS"
      },
      "execution_count": null,
      "outputs": []
    },
    {
      "cell_type": "code",
      "source": [
        "# Intra-Hamming distance for the masked PUF - best selection\n",
        "# XOR reference with the acutal measurement and create an average from it\n",
        "hd_intra_masked_best = np.mean(masked_rams_best ^ masked_refs_best)\n",
        "print('HD_intra_masked_best =', hd_intra_masked_best ,'~',(hd_intra_masked_best*100).astype(int),'%')"
      ],
      "metadata": {
        "colab": {
          "base_uri": "https://localhost:8080/"
        },
        "id": "3wpBZjqPSSU8",
        "outputId": "1b4f6282-8b05-4529-94cd-2b2cf0bd2063"
      },
      "execution_count": 69,
      "outputs": [
        {
          "output_type": "stream",
          "name": "stdout",
          "text": [
            "HD_intra_masked_best = 0.0 ~ 0 %\n"
          ]
        }
      ]
    },
    {
      "cell_type": "code",
      "source": [
        "# Inter-Hamming distance for the masked PUF - best selection\n",
        "# XOR reference of a chip with references of the other chips\n",
        "xor_masked_ref_best = masked_refs_best ^ masked_refs_best.transpose([1,0,2])\n",
        "hd_inter_masked_best = np.sum(xor_masked_ref_best)/(CHIPS*(CHIPS-1)*1024)\n",
        "print('HD_inter_masked_best =', hd_inter_masked_best ,'~',(hd_inter_masked_best*100).astype(int),'%')"
      ],
      "metadata": {
        "colab": {
          "base_uri": "https://localhost:8080/"
        },
        "id": "jDbZJaaSWIAs",
        "outputId": "32e75692-c131-444a-a634-fb26a5789bac"
      },
      "execution_count": 70,
      "outputs": [
        {
          "output_type": "stream",
          "name": "stdout",
          "text": [
            "HD_inter_masked_best = 0.5017795138888889 ~ 50 %\n"
          ]
        }
      ]
    },
    {
      "cell_type": "code",
      "execution_count": 71,
      "metadata": {
        "colab": {
          "base_uri": "https://localhost:8080/"
        },
        "id": "8vZm58CW-wjv",
        "outputId": "f77b3f95-aa81-4772-dc8f-cc839dfe2833"
      },
      "outputs": [
        {
          "output_type": "stream",
          "name": "stdout",
          "text": [
            "HD_intra = 0.030485107421875 ~ 3 %\n",
            "HD_inter = 0.43573133680555554 ~ 43 %\n",
            "HD_intra_masked = 0.0017783203125 ~ 0 %\n",
            "HD_inter_masked = 0.4957682291666667 ~ 49 %\n",
            "HD_intra_masked_best = 0.0 ~ 0 %\n",
            "HD_inter_masked_best = 0.5017795138888889 ~ 50 %\n"
          ]
        }
      ],
      "source": [
        "# Print RESULTS\n",
        "print('HD_intra =', hd_intra ,'~',(hd_intra*100).astype(int),'%')\n",
        "print('HD_inter =', hd_inter ,'~',(hd_inter*100).astype(int),'%')\n",
        "print('HD_intra_masked =', hd_intra_masked ,'~',(hd_intra_masked*100).astype(int),'%')\n",
        "print('HD_inter_masked =', hd_inter_masked ,'~',(hd_inter_masked*100).astype(int),'%')\n",
        "print('HD_intra_masked_best =', hd_intra_masked_best ,'~',(hd_intra_masked_best*100).astype(int),'%')\n",
        "print('HD_inter_masked_best =', hd_inter_masked_best ,'~',(hd_inter_masked_best*100).astype(int),'%')"
      ]
    }
  ],
  "metadata": {
    "kernelspec": {
      "display_name": "Python 3",
      "language": "python",
      "name": "python3"
    },
    "language_info": {
      "codemirror_mode": {
        "name": "ipython",
        "version": 3
      },
      "file_extension": ".py",
      "mimetype": "text/x-python",
      "name": "python",
      "nbconvert_exporter": "python",
      "pygments_lexer": "ipython3",
      "version": "3.10.12"
    },
    "orig_nbformat": 4,
    "colab": {
      "provenance": []
    }
  },
  "nbformat": 4,
  "nbformat_minor": 0
}